{
 "cells": [
  {
   "cell_type": "markdown",
   "source": [
    "# Titanic\n",
    "\n",
    "## Problem\n",
    "The sinking of the Titanic is one of the most infamous shipwrecks in history. On April 15, 1912, during her maiden voyage,\n",
    "the widely considered “unsinkable” RMS Titanic sank after colliding with an iceberg. Unfortunately, there weren’t enough\n",
    "lifeboats for everyone onboard, resulting in the death of 1502 out of 2224 passengers and crew. While there was some\n",
    "element of luck involved in surviving, it seems some groups of people were more likely to survive than others.\n",
    "\n",
    "Your job is to figure out who will survive.\n",
    "\n",
    "### Data Dictionary\n",
    "| Variables       | Definition     | Key     |\n",
    "| :------------- | :----------: | -----------: |\n",
    "|survival \t| Survival|  \t0 = No, 1 = Yes|\n",
    "|pclass |\tTicket class| \t1 = 1st, 2 = 2nd, 3 = 3rd, <br>pclass: A proxy for socio-economic status (SES) <li>1st = Upper <li> 2nd = Middle <li> 3rd = Lower|\n",
    "|sex | \tSex||\n",
    "|Age |\tAge in years ||\n",
    "|sibsp |\t# of siblings / spouses aboard the Titanic ||\n",
    "|parch |\t# of parents / children aboard the Titanic ||\n",
    "|ticket |\tTicket number ||\n",
    "|fare |\tPassenger fare ||\n",
    "|cabin |\tCabin number ||\n",
    "|embarked |\tPort of Embarkation |\t<li>C = Cherbourg  <li>Q = Queenstown <li>S = Southampton|\n"
   ],
   "metadata": {
    "collapsed": false,
    "pycharm": {
     "name": "#%% md\n"
    }
   }
  },
  {
   "cell_type": "markdown",
   "source": [
    "### Load the dataset\n"
   ],
   "metadata": {
    "collapsed": false,
    "pycharm": {
     "name": "#%% md\n"
    }
   }
  },
  {
   "cell_type": "code",
   "execution_count": 1,
   "outputs": [],
   "source": [
    "import pandas as pd\n",
    "\n",
    "titanic_ds = pd.read_csv(\"data/titanic/train.csv\")\n"
   ],
   "metadata": {
    "collapsed": false,
    "pycharm": {
     "name": "#%%\n"
    }
   }
  },
  {
   "cell_type": "code",
   "execution_count": 2,
   "outputs": [
    {
     "output_type": "execute_result",
     "data": {
      "text/plain": [
       "   PassengerId  Survived  Pclass  \\\n",
       "0            1         0       3   \n",
       "1            2         1       1   \n",
       "2            3         1       3   \n",
       "3            4         1       1   \n",
       "4            5         0       3   \n",
       "\n",
       "                                                Name     Sex   Age  SibSp  \\\n",
       "0                            Braund, Mr. Owen Harris    male  22.0      1   \n",
       "1  Cumings, Mrs. John Bradley (Florence Briggs Th...  female  38.0      1   \n",
       "2                             Heikkinen, Miss. Laina  female  26.0      0   \n",
       "3       Futrelle, Mrs. Jacques Heath (Lily May Peel)  female  35.0      1   \n",
       "4                           Allen, Mr. William Henry    male  35.0      0   \n",
       "\n",
       "   Parch            Ticket     Fare Cabin Embarked  \n",
       "0      0         A/5 21171   7.2500   NaN        S  \n",
       "1      0          PC 17599  71.2833   C85        C  \n",
       "2      0  STON/O2. 3101282   7.9250   NaN        S  \n",
       "3      0            113803  53.1000  C123        S  \n",
       "4      0            373450   8.0500   NaN        S  "
      ],
      "text/html": "<div>\n<style scoped>\n    .dataframe tbody tr th:only-of-type {\n        vertical-align: middle;\n    }\n\n    .dataframe tbody tr th {\n        vertical-align: top;\n    }\n\n    .dataframe thead th {\n        text-align: right;\n    }\n</style>\n<table border=\"1\" class=\"dataframe\">\n  <thead>\n    <tr style=\"text-align: right;\">\n      <th></th>\n      <th>PassengerId</th>\n      <th>Survived</th>\n      <th>Pclass</th>\n      <th>Name</th>\n      <th>Sex</th>\n      <th>Age</th>\n      <th>SibSp</th>\n      <th>Parch</th>\n      <th>Ticket</th>\n      <th>Fare</th>\n      <th>Cabin</th>\n      <th>Embarked</th>\n    </tr>\n  </thead>\n  <tbody>\n    <tr>\n      <th>0</th>\n      <td>1</td>\n      <td>0</td>\n      <td>3</td>\n      <td>Braund, Mr. Owen Harris</td>\n      <td>male</td>\n      <td>22.0</td>\n      <td>1</td>\n      <td>0</td>\n      <td>A/5 21171</td>\n      <td>7.2500</td>\n      <td>NaN</td>\n      <td>S</td>\n    </tr>\n    <tr>\n      <th>1</th>\n      <td>2</td>\n      <td>1</td>\n      <td>1</td>\n      <td>Cumings, Mrs. John Bradley (Florence Briggs Th...</td>\n      <td>female</td>\n      <td>38.0</td>\n      <td>1</td>\n      <td>0</td>\n      <td>PC 17599</td>\n      <td>71.2833</td>\n      <td>C85</td>\n      <td>C</td>\n    </tr>\n    <tr>\n      <th>2</th>\n      <td>3</td>\n      <td>1</td>\n      <td>3</td>\n      <td>Heikkinen, Miss. Laina</td>\n      <td>female</td>\n      <td>26.0</td>\n      <td>0</td>\n      <td>0</td>\n      <td>STON/O2. 3101282</td>\n      <td>7.9250</td>\n      <td>NaN</td>\n      <td>S</td>\n    </tr>\n    <tr>\n      <th>3</th>\n      <td>4</td>\n      <td>1</td>\n      <td>1</td>\n      <td>Futrelle, Mrs. Jacques Heath (Lily May Peel)</td>\n      <td>female</td>\n      <td>35.0</td>\n      <td>1</td>\n      <td>0</td>\n      <td>113803</td>\n      <td>53.1000</td>\n      <td>C123</td>\n      <td>S</td>\n    </tr>\n    <tr>\n      <th>4</th>\n      <td>5</td>\n      <td>0</td>\n      <td>3</td>\n      <td>Allen, Mr. William Henry</td>\n      <td>male</td>\n      <td>35.0</td>\n      <td>0</td>\n      <td>0</td>\n      <td>373450</td>\n      <td>8.0500</td>\n      <td>NaN</td>\n      <td>S</td>\n    </tr>\n  </tbody>\n</table>\n</div>"
     },
     "metadata": {},
     "execution_count": 2
    }
   ],
   "source": [
    "titanic_ds.head()"
   ],
   "metadata": {
    "collapsed": false,
    "pycharm": {
     "name": "#%%\n"
    }
   }
  },
  {
   "source": [
    "### What fields are definitely irrelevant?\n",
    "- __Passenger name__ : Will not help in determining the survival chances.\n",
    "- __Ticket Number__ : Does not tell us anything. This is a random alphanumeric.\n",
    "- __Passenger Id__ : This is just a serial number id.\n",
    "- __Cabin Number__ : This is not required. Looking at the data, it seems that cabin is alloted to first class passengers. Third class passengers don't get personal cabins.\n",
    "\n",
    "  \n",
    "### Drop the irrelevant fields.\n"
   ],
   "cell_type": "markdown",
   "metadata": {}
  },
  {
   "cell_type": "code",
   "execution_count": 6,
   "metadata": {},
   "outputs": [
    {
     "output_type": "execute_result",
     "data": {
      "text/plain": [
       "   Survived  Pclass     Sex   Age  SibSp  Parch     Fare Embarked\n",
       "0         0       3    male  22.0      1      0   7.2500        S\n",
       "1         1       1  female  38.0      1      0  71.2833        C\n",
       "2         1       3  female  26.0      0      0   7.9250        S\n",
       "3         1       1  female  35.0      1      0  53.1000        S\n",
       "4         0       3    male  35.0      0      0   8.0500        S"
      ],
      "text/html": "<div>\n<style scoped>\n    .dataframe tbody tr th:only-of-type {\n        vertical-align: middle;\n    }\n\n    .dataframe tbody tr th {\n        vertical-align: top;\n    }\n\n    .dataframe thead th {\n        text-align: right;\n    }\n</style>\n<table border=\"1\" class=\"dataframe\">\n  <thead>\n    <tr style=\"text-align: right;\">\n      <th></th>\n      <th>Survived</th>\n      <th>Pclass</th>\n      <th>Sex</th>\n      <th>Age</th>\n      <th>SibSp</th>\n      <th>Parch</th>\n      <th>Fare</th>\n      <th>Embarked</th>\n    </tr>\n  </thead>\n  <tbody>\n    <tr>\n      <th>0</th>\n      <td>0</td>\n      <td>3</td>\n      <td>male</td>\n      <td>22.0</td>\n      <td>1</td>\n      <td>0</td>\n      <td>7.2500</td>\n      <td>S</td>\n    </tr>\n    <tr>\n      <th>1</th>\n      <td>1</td>\n      <td>1</td>\n      <td>female</td>\n      <td>38.0</td>\n      <td>1</td>\n      <td>0</td>\n      <td>71.2833</td>\n      <td>C</td>\n    </tr>\n    <tr>\n      <th>2</th>\n      <td>1</td>\n      <td>3</td>\n      <td>female</td>\n      <td>26.0</td>\n      <td>0</td>\n      <td>0</td>\n      <td>7.9250</td>\n      <td>S</td>\n    </tr>\n    <tr>\n      <th>3</th>\n      <td>1</td>\n      <td>1</td>\n      <td>female</td>\n      <td>35.0</td>\n      <td>1</td>\n      <td>0</td>\n      <td>53.1000</td>\n      <td>S</td>\n    </tr>\n    <tr>\n      <th>4</th>\n      <td>0</td>\n      <td>3</td>\n      <td>male</td>\n      <td>35.0</td>\n      <td>0</td>\n      <td>0</td>\n      <td>8.0500</td>\n      <td>S</td>\n    </tr>\n  </tbody>\n</table>\n</div>"
     },
     "metadata": {},
     "execution_count": 6
    }
   ],
   "source": [
    "titanic_ds_rel = titanic_ds.drop(columns=['PassengerId', 'Name', 'Ticket', 'Cabin'], axis=1)\n",
    "titanic_ds_rel.head()"
   ]
  },
  {
   "source": [
    "### Data analysis\n",
    "- How many fields need to be encoded?\n",
    "- Is data missing any values?\n",
    "- What are the basic facts about?\n",
    "\n",
    "   #### How many fields need to be encoded?\n",
    "   - _Pclass_ : is already encoded as 1,2,3 but can be furher condensed to one hot encoding\n",
    "   - _Embarked_ : Needs to be encoded.\n",
    "   - _Sex_ : Needs to be encoded.\n",
    "\n",
    "   But we before we start encoding, we need to check if there are any missing values. We also need to understand what are the different type of categoriacal values for each feature.\n",
    "\n",
    "   #### Is dataset missing any values?\n",
    "     "
   ],
   "cell_type": "markdown",
   "metadata": {}
  },
  {
   "cell_type": "code",
   "execution_count": 7,
   "metadata": {},
   "outputs": [
    {
     "output_type": "execute_result",
     "data": {
      "text/plain": [
       "Survived      0\n",
       "Pclass        0\n",
       "Sex           0\n",
       "Age         177\n",
       "SibSp         0\n",
       "Parch         0\n",
       "Fare          0\n",
       "Embarked      2\n",
       "dtype: int64"
      ]
     },
     "metadata": {},
     "execution_count": 7
    }
   ],
   "source": [
    "titanic_ds_rel.isnull().sum()"
   ]
  },
  {
   "source": [
    "### Can we try and fill age by trying to find out if it is a child or a parent?  \n",
    "__sibsp__ : This tells whether the parents had any siblings  \n",
    "__parch__ : If this value is present then it defnitely means that this a minor\n",
    "\n",
    "Let's check the above statement, to see if our understanding is correct. Let's display top 10 rows where age < 16. Let's checkout the value of Parch. \n"
   ],
   "cell_type": "markdown",
   "metadata": {}
  },
  {
   "cell_type": "code",
   "execution_count": 26,
   "metadata": {},
   "outputs": [
    {
     "output_type": "execute_result",
     "data": {
      "text/plain": [
       "     Survived  Pclass     Sex  Age  SibSp  Parch     Fare Embarked\n",
       "5           0       3    male  NaN      0      0   8.4583        Q\n",
       "17          1       2    male  NaN      0      0  13.0000        S\n",
       "19          1       3  female  NaN      0      0   7.2250        C\n",
       "26          0       3    male  NaN      0      0   7.2250        C\n",
       "28          1       3  female  NaN      0      0   7.8792        Q\n",
       "..        ...     ...     ...  ...    ...    ...      ...      ...\n",
       "859         0       3    male  NaN      0      0   7.2292        C\n",
       "863         0       3  female  NaN      8      2  69.5500        S\n",
       "868         0       3    male  NaN      0      0   9.5000        S\n",
       "878         0       3    male  NaN      0      0   7.8958        S\n",
       "888         0       3  female  NaN      1      2  23.4500        S\n",
       "\n",
       "[177 rows x 8 columns]"
      ],
      "text/html": "<div>\n<style scoped>\n    .dataframe tbody tr th:only-of-type {\n        vertical-align: middle;\n    }\n\n    .dataframe tbody tr th {\n        vertical-align: top;\n    }\n\n    .dataframe thead th {\n        text-align: right;\n    }\n</style>\n<table border=\"1\" class=\"dataframe\">\n  <thead>\n    <tr style=\"text-align: right;\">\n      <th></th>\n      <th>Survived</th>\n      <th>Pclass</th>\n      <th>Sex</th>\n      <th>Age</th>\n      <th>SibSp</th>\n      <th>Parch</th>\n      <th>Fare</th>\n      <th>Embarked</th>\n    </tr>\n  </thead>\n  <tbody>\n    <tr>\n      <th>5</th>\n      <td>0</td>\n      <td>3</td>\n      <td>male</td>\n      <td>NaN</td>\n      <td>0</td>\n      <td>0</td>\n      <td>8.4583</td>\n      <td>Q</td>\n    </tr>\n    <tr>\n      <th>17</th>\n      <td>1</td>\n      <td>2</td>\n      <td>male</td>\n      <td>NaN</td>\n      <td>0</td>\n      <td>0</td>\n      <td>13.0000</td>\n      <td>S</td>\n    </tr>\n    <tr>\n      <th>19</th>\n      <td>1</td>\n      <td>3</td>\n      <td>female</td>\n      <td>NaN</td>\n      <td>0</td>\n      <td>0</td>\n      <td>7.2250</td>\n      <td>C</td>\n    </tr>\n    <tr>\n      <th>26</th>\n      <td>0</td>\n      <td>3</td>\n      <td>male</td>\n      <td>NaN</td>\n      <td>0</td>\n      <td>0</td>\n      <td>7.2250</td>\n      <td>C</td>\n    </tr>\n    <tr>\n      <th>28</th>\n      <td>1</td>\n      <td>3</td>\n      <td>female</td>\n      <td>NaN</td>\n      <td>0</td>\n      <td>0</td>\n      <td>7.8792</td>\n      <td>Q</td>\n    </tr>\n    <tr>\n      <th>...</th>\n      <td>...</td>\n      <td>...</td>\n      <td>...</td>\n      <td>...</td>\n      <td>...</td>\n      <td>...</td>\n      <td>...</td>\n      <td>...</td>\n    </tr>\n    <tr>\n      <th>859</th>\n      <td>0</td>\n      <td>3</td>\n      <td>male</td>\n      <td>NaN</td>\n      <td>0</td>\n      <td>0</td>\n      <td>7.2292</td>\n      <td>C</td>\n    </tr>\n    <tr>\n      <th>863</th>\n      <td>0</td>\n      <td>3</td>\n      <td>female</td>\n      <td>NaN</td>\n      <td>8</td>\n      <td>2</td>\n      <td>69.5500</td>\n      <td>S</td>\n    </tr>\n    <tr>\n      <th>868</th>\n      <td>0</td>\n      <td>3</td>\n      <td>male</td>\n      <td>NaN</td>\n      <td>0</td>\n      <td>0</td>\n      <td>9.5000</td>\n      <td>S</td>\n    </tr>\n    <tr>\n      <th>878</th>\n      <td>0</td>\n      <td>3</td>\n      <td>male</td>\n      <td>NaN</td>\n      <td>0</td>\n      <td>0</td>\n      <td>7.8958</td>\n      <td>S</td>\n    </tr>\n    <tr>\n      <th>888</th>\n      <td>0</td>\n      <td>3</td>\n      <td>female</td>\n      <td>NaN</td>\n      <td>1</td>\n      <td>2</td>\n      <td>23.4500</td>\n      <td>S</td>\n    </tr>\n  </tbody>\n</table>\n<p>177 rows × 8 columns</p>\n</div>"
     },
     "metadata": {},
     "execution_count": 26
    }
   ],
   "source": [
    "titanic_ds_rel.loc[ titanic_ds_rel['Age'].isnull() ]  \n"
   ]
  },
  {
   "source": [
    "### Facts about children\n",
    "- Some children were travelling with thier nanny only. No parents accopanied them. Hence __PARCH__ =0.\n",
    "\n",
    "__Assumption__ : A third class passenger will never be able to afford a nanny. \n",
    "\n",
    "### Drop all passengers where __PCLASS__ ==3"
   ],
   "cell_type": "markdown",
   "metadata": {}
  },
  {
   "cell_type": "code",
   "execution_count": 32,
   "metadata": {},
   "outputs": [
    {
     "output_type": "stream",
     "name": "stdout",
     "text": [
      "Survived    41\nPclass      41\nSex         41\nAge          0\nSibSp       41\nParch       41\nFare        41\nEmbarked    41\ndtype: int64\n"
     ]
    },
    {
     "output_type": "execute_result",
     "data": {
      "text/plain": [
       "     Survived  Pclass     Sex  Age  SibSp  Parch      Fare Embarked\n",
       "17          1       2    male  NaN      0      0   13.0000        S\n",
       "31          1       1  female  NaN      1      0  146.5208        C\n",
       "55          1       1    male  NaN      0      0   35.5000        S\n",
       "64          0       1    male  NaN      0      0   27.7208        C\n",
       "166         1       1  female  NaN      0      1   55.0000        S\n",
       "168         0       1    male  NaN      0      0   25.9250        S\n",
       "181         0       2    male  NaN      0      0   15.0500        C\n",
       "185         0       1    male  NaN      0      0   50.0000        S\n",
       "256         1       1  female  NaN      0      0   79.2000        C\n",
       "270         0       1    male  NaN      0      0   31.0000        S\n",
       "277         0       2    male  NaN      0      0    0.0000        S\n",
       "284         0       1    male  NaN      0      0   26.0000        S\n",
       "295         0       1    male  NaN      0      0   27.7208        C\n",
       "298         1       1    male  NaN      0      0   30.5000        S\n",
       "303         1       2  female  NaN      0      0   12.3500        Q\n",
       "306         1       1  female  NaN      0      0  110.8833        C\n",
       "334         1       1  female  NaN      1      0  133.6500        S\n",
       "351         0       1    male  NaN      0      0   35.0000        S\n",
       "375         1       1  female  NaN      1      0   82.1708        C\n",
       "413         0       2    male  NaN      0      0    0.0000        S\n",
       "457         1       1  female  NaN      1      0   51.8625        S\n",
       "466         0       2    male  NaN      0      0    0.0000        S\n",
       "475         0       1    male  NaN      0      0   52.0000        S\n",
       "481         0       2    male  NaN      0      0    0.0000        S\n",
       "507         1       1    male  NaN      0      0   26.5500        S\n",
       "527         0       1    male  NaN      0      0  221.7792        S\n",
       "547         1       2    male  NaN      0      0   13.8625        C\n",
       "557         0       1    male  NaN      0      0  227.5250        C\n",
       "596         1       2  female  NaN      0      0   33.0000        S\n",
       "602         0       1    male  NaN      0      0   42.4000        S\n",
       "633         0       1    male  NaN      0      0    0.0000        S\n",
       "669         1       1  female  NaN      1      0   52.0000        S\n",
       "674         0       2    male  NaN      0      0    0.0000        S\n",
       "711         0       1    male  NaN      0      0   26.5500        S\n",
       "732         0       2    male  NaN      0      0    0.0000        S\n",
       "740         1       1    male  NaN      0      0   30.0000        S\n",
       "766         0       1    male  NaN      0      0   39.6000        C\n",
       "793         0       1    male  NaN      0      0   30.6958        C\n",
       "815         0       1    male  NaN      0      0    0.0000        S\n",
       "839         1       1    male  NaN      0      0   29.7000        C\n",
       "849         1       1  female  NaN      1      0   89.1042        C"
      ],
      "text/html": "<div>\n<style scoped>\n    .dataframe tbody tr th:only-of-type {\n        vertical-align: middle;\n    }\n\n    .dataframe tbody tr th {\n        vertical-align: top;\n    }\n\n    .dataframe thead th {\n        text-align: right;\n    }\n</style>\n<table border=\"1\" class=\"dataframe\">\n  <thead>\n    <tr style=\"text-align: right;\">\n      <th></th>\n      <th>Survived</th>\n      <th>Pclass</th>\n      <th>Sex</th>\n      <th>Age</th>\n      <th>SibSp</th>\n      <th>Parch</th>\n      <th>Fare</th>\n      <th>Embarked</th>\n    </tr>\n  </thead>\n  <tbody>\n    <tr>\n      <th>17</th>\n      <td>1</td>\n      <td>2</td>\n      <td>male</td>\n      <td>NaN</td>\n      <td>0</td>\n      <td>0</td>\n      <td>13.0000</td>\n      <td>S</td>\n    </tr>\n    <tr>\n      <th>31</th>\n      <td>1</td>\n      <td>1</td>\n      <td>female</td>\n      <td>NaN</td>\n      <td>1</td>\n      <td>0</td>\n      <td>146.5208</td>\n      <td>C</td>\n    </tr>\n    <tr>\n      <th>55</th>\n      <td>1</td>\n      <td>1</td>\n      <td>male</td>\n      <td>NaN</td>\n      <td>0</td>\n      <td>0</td>\n      <td>35.5000</td>\n      <td>S</td>\n    </tr>\n    <tr>\n      <th>64</th>\n      <td>0</td>\n      <td>1</td>\n      <td>male</td>\n      <td>NaN</td>\n      <td>0</td>\n      <td>0</td>\n      <td>27.7208</td>\n      <td>C</td>\n    </tr>\n    <tr>\n      <th>166</th>\n      <td>1</td>\n      <td>1</td>\n      <td>female</td>\n      <td>NaN</td>\n      <td>0</td>\n      <td>1</td>\n      <td>55.0000</td>\n      <td>S</td>\n    </tr>\n    <tr>\n      <th>168</th>\n      <td>0</td>\n      <td>1</td>\n      <td>male</td>\n      <td>NaN</td>\n      <td>0</td>\n      <td>0</td>\n      <td>25.9250</td>\n      <td>S</td>\n    </tr>\n    <tr>\n      <th>181</th>\n      <td>0</td>\n      <td>2</td>\n      <td>male</td>\n      <td>NaN</td>\n      <td>0</td>\n      <td>0</td>\n      <td>15.0500</td>\n      <td>C</td>\n    </tr>\n    <tr>\n      <th>185</th>\n      <td>0</td>\n      <td>1</td>\n      <td>male</td>\n      <td>NaN</td>\n      <td>0</td>\n      <td>0</td>\n      <td>50.0000</td>\n      <td>S</td>\n    </tr>\n    <tr>\n      <th>256</th>\n      <td>1</td>\n      <td>1</td>\n      <td>female</td>\n      <td>NaN</td>\n      <td>0</td>\n      <td>0</td>\n      <td>79.2000</td>\n      <td>C</td>\n    </tr>\n    <tr>\n      <th>270</th>\n      <td>0</td>\n      <td>1</td>\n      <td>male</td>\n      <td>NaN</td>\n      <td>0</td>\n      <td>0</td>\n      <td>31.0000</td>\n      <td>S</td>\n    </tr>\n    <tr>\n      <th>277</th>\n      <td>0</td>\n      <td>2</td>\n      <td>male</td>\n      <td>NaN</td>\n      <td>0</td>\n      <td>0</td>\n      <td>0.0000</td>\n      <td>S</td>\n    </tr>\n    <tr>\n      <th>284</th>\n      <td>0</td>\n      <td>1</td>\n      <td>male</td>\n      <td>NaN</td>\n      <td>0</td>\n      <td>0</td>\n      <td>26.0000</td>\n      <td>S</td>\n    </tr>\n    <tr>\n      <th>295</th>\n      <td>0</td>\n      <td>1</td>\n      <td>male</td>\n      <td>NaN</td>\n      <td>0</td>\n      <td>0</td>\n      <td>27.7208</td>\n      <td>C</td>\n    </tr>\n    <tr>\n      <th>298</th>\n      <td>1</td>\n      <td>1</td>\n      <td>male</td>\n      <td>NaN</td>\n      <td>0</td>\n      <td>0</td>\n      <td>30.5000</td>\n      <td>S</td>\n    </tr>\n    <tr>\n      <th>303</th>\n      <td>1</td>\n      <td>2</td>\n      <td>female</td>\n      <td>NaN</td>\n      <td>0</td>\n      <td>0</td>\n      <td>12.3500</td>\n      <td>Q</td>\n    </tr>\n    <tr>\n      <th>306</th>\n      <td>1</td>\n      <td>1</td>\n      <td>female</td>\n      <td>NaN</td>\n      <td>0</td>\n      <td>0</td>\n      <td>110.8833</td>\n      <td>C</td>\n    </tr>\n    <tr>\n      <th>334</th>\n      <td>1</td>\n      <td>1</td>\n      <td>female</td>\n      <td>NaN</td>\n      <td>1</td>\n      <td>0</td>\n      <td>133.6500</td>\n      <td>S</td>\n    </tr>\n    <tr>\n      <th>351</th>\n      <td>0</td>\n      <td>1</td>\n      <td>male</td>\n      <td>NaN</td>\n      <td>0</td>\n      <td>0</td>\n      <td>35.0000</td>\n      <td>S</td>\n    </tr>\n    <tr>\n      <th>375</th>\n      <td>1</td>\n      <td>1</td>\n      <td>female</td>\n      <td>NaN</td>\n      <td>1</td>\n      <td>0</td>\n      <td>82.1708</td>\n      <td>C</td>\n    </tr>\n    <tr>\n      <th>413</th>\n      <td>0</td>\n      <td>2</td>\n      <td>male</td>\n      <td>NaN</td>\n      <td>0</td>\n      <td>0</td>\n      <td>0.0000</td>\n      <td>S</td>\n    </tr>\n    <tr>\n      <th>457</th>\n      <td>1</td>\n      <td>1</td>\n      <td>female</td>\n      <td>NaN</td>\n      <td>1</td>\n      <td>0</td>\n      <td>51.8625</td>\n      <td>S</td>\n    </tr>\n    <tr>\n      <th>466</th>\n      <td>0</td>\n      <td>2</td>\n      <td>male</td>\n      <td>NaN</td>\n      <td>0</td>\n      <td>0</td>\n      <td>0.0000</td>\n      <td>S</td>\n    </tr>\n    <tr>\n      <th>475</th>\n      <td>0</td>\n      <td>1</td>\n      <td>male</td>\n      <td>NaN</td>\n      <td>0</td>\n      <td>0</td>\n      <td>52.0000</td>\n      <td>S</td>\n    </tr>\n    <tr>\n      <th>481</th>\n      <td>0</td>\n      <td>2</td>\n      <td>male</td>\n      <td>NaN</td>\n      <td>0</td>\n      <td>0</td>\n      <td>0.0000</td>\n      <td>S</td>\n    </tr>\n    <tr>\n      <th>507</th>\n      <td>1</td>\n      <td>1</td>\n      <td>male</td>\n      <td>NaN</td>\n      <td>0</td>\n      <td>0</td>\n      <td>26.5500</td>\n      <td>S</td>\n    </tr>\n    <tr>\n      <th>527</th>\n      <td>0</td>\n      <td>1</td>\n      <td>male</td>\n      <td>NaN</td>\n      <td>0</td>\n      <td>0</td>\n      <td>221.7792</td>\n      <td>S</td>\n    </tr>\n    <tr>\n      <th>547</th>\n      <td>1</td>\n      <td>2</td>\n      <td>male</td>\n      <td>NaN</td>\n      <td>0</td>\n      <td>0</td>\n      <td>13.8625</td>\n      <td>C</td>\n    </tr>\n    <tr>\n      <th>557</th>\n      <td>0</td>\n      <td>1</td>\n      <td>male</td>\n      <td>NaN</td>\n      <td>0</td>\n      <td>0</td>\n      <td>227.5250</td>\n      <td>C</td>\n    </tr>\n    <tr>\n      <th>596</th>\n      <td>1</td>\n      <td>2</td>\n      <td>female</td>\n      <td>NaN</td>\n      <td>0</td>\n      <td>0</td>\n      <td>33.0000</td>\n      <td>S</td>\n    </tr>\n    <tr>\n      <th>602</th>\n      <td>0</td>\n      <td>1</td>\n      <td>male</td>\n      <td>NaN</td>\n      <td>0</td>\n      <td>0</td>\n      <td>42.4000</td>\n      <td>S</td>\n    </tr>\n    <tr>\n      <th>633</th>\n      <td>0</td>\n      <td>1</td>\n      <td>male</td>\n      <td>NaN</td>\n      <td>0</td>\n      <td>0</td>\n      <td>0.0000</td>\n      <td>S</td>\n    </tr>\n    <tr>\n      <th>669</th>\n      <td>1</td>\n      <td>1</td>\n      <td>female</td>\n      <td>NaN</td>\n      <td>1</td>\n      <td>0</td>\n      <td>52.0000</td>\n      <td>S</td>\n    </tr>\n    <tr>\n      <th>674</th>\n      <td>0</td>\n      <td>2</td>\n      <td>male</td>\n      <td>NaN</td>\n      <td>0</td>\n      <td>0</td>\n      <td>0.0000</td>\n      <td>S</td>\n    </tr>\n    <tr>\n      <th>711</th>\n      <td>0</td>\n      <td>1</td>\n      <td>male</td>\n      <td>NaN</td>\n      <td>0</td>\n      <td>0</td>\n      <td>26.5500</td>\n      <td>S</td>\n    </tr>\n    <tr>\n      <th>732</th>\n      <td>0</td>\n      <td>2</td>\n      <td>male</td>\n      <td>NaN</td>\n      <td>0</td>\n      <td>0</td>\n      <td>0.0000</td>\n      <td>S</td>\n    </tr>\n    <tr>\n      <th>740</th>\n      <td>1</td>\n      <td>1</td>\n      <td>male</td>\n      <td>NaN</td>\n      <td>0</td>\n      <td>0</td>\n      <td>30.0000</td>\n      <td>S</td>\n    </tr>\n    <tr>\n      <th>766</th>\n      <td>0</td>\n      <td>1</td>\n      <td>male</td>\n      <td>NaN</td>\n      <td>0</td>\n      <td>0</td>\n      <td>39.6000</td>\n      <td>C</td>\n    </tr>\n    <tr>\n      <th>793</th>\n      <td>0</td>\n      <td>1</td>\n      <td>male</td>\n      <td>NaN</td>\n      <td>0</td>\n      <td>0</td>\n      <td>30.6958</td>\n      <td>C</td>\n    </tr>\n    <tr>\n      <th>815</th>\n      <td>0</td>\n      <td>1</td>\n      <td>male</td>\n      <td>NaN</td>\n      <td>0</td>\n      <td>0</td>\n      <td>0.0000</td>\n      <td>S</td>\n    </tr>\n    <tr>\n      <th>839</th>\n      <td>1</td>\n      <td>1</td>\n      <td>male</td>\n      <td>NaN</td>\n      <td>0</td>\n      <td>0</td>\n      <td>29.7000</td>\n      <td>C</td>\n    </tr>\n    <tr>\n      <th>849</th>\n      <td>1</td>\n      <td>1</td>\n      <td>female</td>\n      <td>NaN</td>\n      <td>1</td>\n      <td>0</td>\n      <td>89.1042</td>\n      <td>C</td>\n    </tr>\n  </tbody>\n</table>\n</div>"
     },
     "metadata": {},
     "execution_count": 32
    }
   ],
   "source": [
    "print(titanic_ds_rel.loc[( titanic_ds_rel['Age'].isnull()) & (titanic_ds_rel['Pclass'] != 3) ].count())\n",
    "titanic_ds_rel.loc[( titanic_ds_rel['Age'].isnull()) & (titanic_ds_rel['Pclass'] != 3) ]"
   ]
  },
  {
   "source": [
    "__ Total nummber of rows where age is missing and Pclass != 3 reduces from 177 --> 41. __\n",
    "### Fact: Sibsp\n",
    "If Sibsp is present then it is definitely an adult becuase as per the data definition, Sibsp = # of Siblings/ Spouse.\n",
    "\n",
    "__Assumption__ : If we exclude missing age rows where Sibsp =1, we will narrow down the possibility of people with missing ages that they may or may not be a minor child."
   ],
   "cell_type": "markdown",
   "metadata": {}
  },
  {
   "cell_type": "code",
   "execution_count": 36,
   "metadata": {},
   "outputs": [
    {
     "output_type": "stream",
     "name": "stdout",
     "text": [
      "Survived    35\nPclass      35\nSex         35\nAge          0\nSibSp       35\nParch       35\nFare        35\nEmbarked    35\ndtype: int64\n"
     ]
    },
    {
     "output_type": "execute_result",
     "data": {
      "text/plain": [
       "     Survived  Pclass     Sex  Age  SibSp  Parch      Fare Embarked\n",
       "17          1       2    male  NaN      0      0   13.0000        S\n",
       "55          1       1    male  NaN      0      0   35.5000        S\n",
       "64          0       1    male  NaN      0      0   27.7208        C\n",
       "166         1       1  female  NaN      0      1   55.0000        S\n",
       "168         0       1    male  NaN      0      0   25.9250        S\n",
       "181         0       2    male  NaN      0      0   15.0500        C\n",
       "185         0       1    male  NaN      0      0   50.0000        S\n",
       "256         1       1  female  NaN      0      0   79.2000        C\n",
       "270         0       1    male  NaN      0      0   31.0000        S\n",
       "277         0       2    male  NaN      0      0    0.0000        S\n",
       "284         0       1    male  NaN      0      0   26.0000        S\n",
       "295         0       1    male  NaN      0      0   27.7208        C\n",
       "298         1       1    male  NaN      0      0   30.5000        S\n",
       "303         1       2  female  NaN      0      0   12.3500        Q\n",
       "306         1       1  female  NaN      0      0  110.8833        C\n",
       "351         0       1    male  NaN      0      0   35.0000        S\n",
       "413         0       2    male  NaN      0      0    0.0000        S\n",
       "466         0       2    male  NaN      0      0    0.0000        S\n",
       "475         0       1    male  NaN      0      0   52.0000        S\n",
       "481         0       2    male  NaN      0      0    0.0000        S\n",
       "507         1       1    male  NaN      0      0   26.5500        S\n",
       "527         0       1    male  NaN      0      0  221.7792        S\n",
       "547         1       2    male  NaN      0      0   13.8625        C\n",
       "557         0       1    male  NaN      0      0  227.5250        C\n",
       "596         1       2  female  NaN      0      0   33.0000        S\n",
       "602         0       1    male  NaN      0      0   42.4000        S\n",
       "633         0       1    male  NaN      0      0    0.0000        S\n",
       "674         0       2    male  NaN      0      0    0.0000        S\n",
       "711         0       1    male  NaN      0      0   26.5500        S\n",
       "732         0       2    male  NaN      0      0    0.0000        S\n",
       "740         1       1    male  NaN      0      0   30.0000        S\n",
       "766         0       1    male  NaN      0      0   39.6000        C\n",
       "793         0       1    male  NaN      0      0   30.6958        C\n",
       "815         0       1    male  NaN      0      0    0.0000        S\n",
       "839         1       1    male  NaN      0      0   29.7000        C"
      ],
      "text/html": "<div>\n<style scoped>\n    .dataframe tbody tr th:only-of-type {\n        vertical-align: middle;\n    }\n\n    .dataframe tbody tr th {\n        vertical-align: top;\n    }\n\n    .dataframe thead th {\n        text-align: right;\n    }\n</style>\n<table border=\"1\" class=\"dataframe\">\n  <thead>\n    <tr style=\"text-align: right;\">\n      <th></th>\n      <th>Survived</th>\n      <th>Pclass</th>\n      <th>Sex</th>\n      <th>Age</th>\n      <th>SibSp</th>\n      <th>Parch</th>\n      <th>Fare</th>\n      <th>Embarked</th>\n    </tr>\n  </thead>\n  <tbody>\n    <tr>\n      <th>17</th>\n      <td>1</td>\n      <td>2</td>\n      <td>male</td>\n      <td>NaN</td>\n      <td>0</td>\n      <td>0</td>\n      <td>13.0000</td>\n      <td>S</td>\n    </tr>\n    <tr>\n      <th>55</th>\n      <td>1</td>\n      <td>1</td>\n      <td>male</td>\n      <td>NaN</td>\n      <td>0</td>\n      <td>0</td>\n      <td>35.5000</td>\n      <td>S</td>\n    </tr>\n    <tr>\n      <th>64</th>\n      <td>0</td>\n      <td>1</td>\n      <td>male</td>\n      <td>NaN</td>\n      <td>0</td>\n      <td>0</td>\n      <td>27.7208</td>\n      <td>C</td>\n    </tr>\n    <tr>\n      <th>166</th>\n      <td>1</td>\n      <td>1</td>\n      <td>female</td>\n      <td>NaN</td>\n      <td>0</td>\n      <td>1</td>\n      <td>55.0000</td>\n      <td>S</td>\n    </tr>\n    <tr>\n      <th>168</th>\n      <td>0</td>\n      <td>1</td>\n      <td>male</td>\n      <td>NaN</td>\n      <td>0</td>\n      <td>0</td>\n      <td>25.9250</td>\n      <td>S</td>\n    </tr>\n    <tr>\n      <th>181</th>\n      <td>0</td>\n      <td>2</td>\n      <td>male</td>\n      <td>NaN</td>\n      <td>0</td>\n      <td>0</td>\n      <td>15.0500</td>\n      <td>C</td>\n    </tr>\n    <tr>\n      <th>185</th>\n      <td>0</td>\n      <td>1</td>\n      <td>male</td>\n      <td>NaN</td>\n      <td>0</td>\n      <td>0</td>\n      <td>50.0000</td>\n      <td>S</td>\n    </tr>\n    <tr>\n      <th>256</th>\n      <td>1</td>\n      <td>1</td>\n      <td>female</td>\n      <td>NaN</td>\n      <td>0</td>\n      <td>0</td>\n      <td>79.2000</td>\n      <td>C</td>\n    </tr>\n    <tr>\n      <th>270</th>\n      <td>0</td>\n      <td>1</td>\n      <td>male</td>\n      <td>NaN</td>\n      <td>0</td>\n      <td>0</td>\n      <td>31.0000</td>\n      <td>S</td>\n    </tr>\n    <tr>\n      <th>277</th>\n      <td>0</td>\n      <td>2</td>\n      <td>male</td>\n      <td>NaN</td>\n      <td>0</td>\n      <td>0</td>\n      <td>0.0000</td>\n      <td>S</td>\n    </tr>\n    <tr>\n      <th>284</th>\n      <td>0</td>\n      <td>1</td>\n      <td>male</td>\n      <td>NaN</td>\n      <td>0</td>\n      <td>0</td>\n      <td>26.0000</td>\n      <td>S</td>\n    </tr>\n    <tr>\n      <th>295</th>\n      <td>0</td>\n      <td>1</td>\n      <td>male</td>\n      <td>NaN</td>\n      <td>0</td>\n      <td>0</td>\n      <td>27.7208</td>\n      <td>C</td>\n    </tr>\n    <tr>\n      <th>298</th>\n      <td>1</td>\n      <td>1</td>\n      <td>male</td>\n      <td>NaN</td>\n      <td>0</td>\n      <td>0</td>\n      <td>30.5000</td>\n      <td>S</td>\n    </tr>\n    <tr>\n      <th>303</th>\n      <td>1</td>\n      <td>2</td>\n      <td>female</td>\n      <td>NaN</td>\n      <td>0</td>\n      <td>0</td>\n      <td>12.3500</td>\n      <td>Q</td>\n    </tr>\n    <tr>\n      <th>306</th>\n      <td>1</td>\n      <td>1</td>\n      <td>female</td>\n      <td>NaN</td>\n      <td>0</td>\n      <td>0</td>\n      <td>110.8833</td>\n      <td>C</td>\n    </tr>\n    <tr>\n      <th>351</th>\n      <td>0</td>\n      <td>1</td>\n      <td>male</td>\n      <td>NaN</td>\n      <td>0</td>\n      <td>0</td>\n      <td>35.0000</td>\n      <td>S</td>\n    </tr>\n    <tr>\n      <th>413</th>\n      <td>0</td>\n      <td>2</td>\n      <td>male</td>\n      <td>NaN</td>\n      <td>0</td>\n      <td>0</td>\n      <td>0.0000</td>\n      <td>S</td>\n    </tr>\n    <tr>\n      <th>466</th>\n      <td>0</td>\n      <td>2</td>\n      <td>male</td>\n      <td>NaN</td>\n      <td>0</td>\n      <td>0</td>\n      <td>0.0000</td>\n      <td>S</td>\n    </tr>\n    <tr>\n      <th>475</th>\n      <td>0</td>\n      <td>1</td>\n      <td>male</td>\n      <td>NaN</td>\n      <td>0</td>\n      <td>0</td>\n      <td>52.0000</td>\n      <td>S</td>\n    </tr>\n    <tr>\n      <th>481</th>\n      <td>0</td>\n      <td>2</td>\n      <td>male</td>\n      <td>NaN</td>\n      <td>0</td>\n      <td>0</td>\n      <td>0.0000</td>\n      <td>S</td>\n    </tr>\n    <tr>\n      <th>507</th>\n      <td>1</td>\n      <td>1</td>\n      <td>male</td>\n      <td>NaN</td>\n      <td>0</td>\n      <td>0</td>\n      <td>26.5500</td>\n      <td>S</td>\n    </tr>\n    <tr>\n      <th>527</th>\n      <td>0</td>\n      <td>1</td>\n      <td>male</td>\n      <td>NaN</td>\n      <td>0</td>\n      <td>0</td>\n      <td>221.7792</td>\n      <td>S</td>\n    </tr>\n    <tr>\n      <th>547</th>\n      <td>1</td>\n      <td>2</td>\n      <td>male</td>\n      <td>NaN</td>\n      <td>0</td>\n      <td>0</td>\n      <td>13.8625</td>\n      <td>C</td>\n    </tr>\n    <tr>\n      <th>557</th>\n      <td>0</td>\n      <td>1</td>\n      <td>male</td>\n      <td>NaN</td>\n      <td>0</td>\n      <td>0</td>\n      <td>227.5250</td>\n      <td>C</td>\n    </tr>\n    <tr>\n      <th>596</th>\n      <td>1</td>\n      <td>2</td>\n      <td>female</td>\n      <td>NaN</td>\n      <td>0</td>\n      <td>0</td>\n      <td>33.0000</td>\n      <td>S</td>\n    </tr>\n    <tr>\n      <th>602</th>\n      <td>0</td>\n      <td>1</td>\n      <td>male</td>\n      <td>NaN</td>\n      <td>0</td>\n      <td>0</td>\n      <td>42.4000</td>\n      <td>S</td>\n    </tr>\n    <tr>\n      <th>633</th>\n      <td>0</td>\n      <td>1</td>\n      <td>male</td>\n      <td>NaN</td>\n      <td>0</td>\n      <td>0</td>\n      <td>0.0000</td>\n      <td>S</td>\n    </tr>\n    <tr>\n      <th>674</th>\n      <td>0</td>\n      <td>2</td>\n      <td>male</td>\n      <td>NaN</td>\n      <td>0</td>\n      <td>0</td>\n      <td>0.0000</td>\n      <td>S</td>\n    </tr>\n    <tr>\n      <th>711</th>\n      <td>0</td>\n      <td>1</td>\n      <td>male</td>\n      <td>NaN</td>\n      <td>0</td>\n      <td>0</td>\n      <td>26.5500</td>\n      <td>S</td>\n    </tr>\n    <tr>\n      <th>732</th>\n      <td>0</td>\n      <td>2</td>\n      <td>male</td>\n      <td>NaN</td>\n      <td>0</td>\n      <td>0</td>\n      <td>0.0000</td>\n      <td>S</td>\n    </tr>\n    <tr>\n      <th>740</th>\n      <td>1</td>\n      <td>1</td>\n      <td>male</td>\n      <td>NaN</td>\n      <td>0</td>\n      <td>0</td>\n      <td>30.0000</td>\n      <td>S</td>\n    </tr>\n    <tr>\n      <th>766</th>\n      <td>0</td>\n      <td>1</td>\n      <td>male</td>\n      <td>NaN</td>\n      <td>0</td>\n      <td>0</td>\n      <td>39.6000</td>\n      <td>C</td>\n    </tr>\n    <tr>\n      <th>793</th>\n      <td>0</td>\n      <td>1</td>\n      <td>male</td>\n      <td>NaN</td>\n      <td>0</td>\n      <td>0</td>\n      <td>30.6958</td>\n      <td>C</td>\n    </tr>\n    <tr>\n      <th>815</th>\n      <td>0</td>\n      <td>1</td>\n      <td>male</td>\n      <td>NaN</td>\n      <td>0</td>\n      <td>0</td>\n      <td>0.0000</td>\n      <td>S</td>\n    </tr>\n    <tr>\n      <th>839</th>\n      <td>1</td>\n      <td>1</td>\n      <td>male</td>\n      <td>NaN</td>\n      <td>0</td>\n      <td>0</td>\n      <td>29.7000</td>\n      <td>C</td>\n    </tr>\n  </tbody>\n</table>\n</div>"
     },
     "metadata": {},
     "execution_count": 36
    }
   ],
   "source": [
    "print(titanic_ds_rel.loc[( titanic_ds_rel['Age'].isnull()) & (titanic_ds_rel['Pclass'] != 3) & (titanic_ds_rel['SibSp'] ==0) ].count())\n",
    "\n",
    "titanic_ds_rel.loc[( titanic_ds_rel['Age'].isnull()) & (titanic_ds_rel['Pclass'] != 3) & (titanic_ds_rel['SibSp'] ==0) ]"
   ]
  },
  {
   "source": [
    "__So now we have 35 people who are either minor or adult__\n",
    "\n",
    "### Can we further narrow down the list?\n",
    "We can look at the option to see if a child fare is less compared to an adult? If we can see in data where age is less than 16 and compare the fare paid for the same __Pclass__ and same __Embarked__ then we can take mean age and fill in the values minors.\n",
    "\n",
    "### Let's find out mean fare paid by minors under age 10 and lower who emabreked from same port and have the same Pclass.\n",
    "\n",
    "__Fare paid by Class 1 minor and adult boarding from S, Q or C.__"
   ],
   "cell_type": "markdown",
   "metadata": {}
  }
 ],
 "metadata": {
  "kernelspec": {
   "name": "pycharm-17d0789b",
   "language": "python",
   "display_name": "PyCharm (ds-proj-titanic)"
  },
  "language_info": {
   "codemirror_mode": {
    "name": "ipython",
    "version": 2
   },
   "file_extension": ".py",
   "mimetype": "text/x-python",
   "name": "python",
   "nbconvert_exporter": "python",
   "pygments_lexer": "ipython2",
   "version": "3.8.6-final"
  }
 },
 "nbformat": 4,
 "nbformat_minor": 0
}